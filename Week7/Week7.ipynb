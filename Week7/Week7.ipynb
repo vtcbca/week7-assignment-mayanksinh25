{
 "cells": [
  {
   "cell_type": "code",
   "execution_count": 3,
   "id": "c0363f94-05cd-47ad-b435-fb9cd6eb6413",
   "metadata": {},
   "outputs": [
    {
     "name": "stdin",
     "output_type": "stream",
     "text": [
      "Enter Product Number:  12\n",
      "Enter Product Name:  my\n",
      "Enter January Sales:  22\n",
      "Enter February Sales:  55\n",
      "Enter March Sales:  3\n",
      "Enter April Sales:  \n"
     ]
    },
    {
     "ename": "ValueError",
     "evalue": "invalid literal for int() with base 10: ''",
     "output_type": "error",
     "traceback": [
      "\u001b[1;31m---------------------------------------------------------------------------\u001b[0m",
      "\u001b[1;31mValueError\u001b[0m                                Traceback (most recent call last)",
      "Cell \u001b[1;32mIn[3], line 17\u001b[0m\n\u001b[0;32m     15\u001b[0m feb \u001b[38;5;241m=\u001b[39m \u001b[38;5;28mint\u001b[39m(\u001b[38;5;28minput\u001b[39m(\u001b[38;5;124m\"\u001b[39m\u001b[38;5;124mEnter February Sales: \u001b[39m\u001b[38;5;124m\"\u001b[39m))\n\u001b[0;32m     16\u001b[0m mar \u001b[38;5;241m=\u001b[39m \u001b[38;5;28mint\u001b[39m(\u001b[38;5;28minput\u001b[39m(\u001b[38;5;124m\"\u001b[39m\u001b[38;5;124mEnter March Sales: \u001b[39m\u001b[38;5;124m\"\u001b[39m))\n\u001b[1;32m---> 17\u001b[0m apr \u001b[38;5;241m=\u001b[39m \u001b[38;5;28;43mint\u001b[39;49m\u001b[43m(\u001b[49m\u001b[38;5;28;43minput\u001b[39;49m\u001b[43m(\u001b[49m\u001b[38;5;124;43m\"\u001b[39;49m\u001b[38;5;124;43mEnter April Sales: \u001b[39;49m\u001b[38;5;124;43m\"\u001b[39;49m\u001b[43m)\u001b[49m\u001b[43m)\u001b[49m\n\u001b[0;32m     18\u001b[0m may \u001b[38;5;241m=\u001b[39m \u001b[38;5;28mint\u001b[39m(\u001b[38;5;28minput\u001b[39m(\u001b[38;5;124m\"\u001b[39m\u001b[38;5;124mEnter May Sales: \u001b[39m\u001b[38;5;124m\"\u001b[39m))\n\u001b[0;32m     19\u001b[0m jun \u001b[38;5;241m=\u001b[39m \u001b[38;5;28mint\u001b[39m(\u001b[38;5;28minput\u001b[39m(\u001b[38;5;124m\"\u001b[39m\u001b[38;5;124mEnter June Sales: \u001b[39m\u001b[38;5;124m\"\u001b[39m))\n",
      "\u001b[1;31mValueError\u001b[0m: invalid literal for int() with base 10: ''"
     ]
    }
   ],
   "source": [
    "#Create CSV file for product selling for 6 Months ( Prod_No | Prod_Name | Jan | Feb | Mar | Apr | May | Jun) for 12 products.\n",
    "import csv\n",
    "import pandas as pd\n",
    "header=['Prod_No','Prod_Name','Jan','Feb','Mar','Apr','May','Jun']\n",
    "with open(\"C:\\\\sqlite3\\\\csv\\\\selling.csv\",\"w\",newline='') as csvfile:\n",
    "    fdata=csv.writer(csvfile)\n",
    "#Add 12 Records. by taking input from user.\n",
    "l=[]\n",
    "with open(\"c:\\\\sqlite3\\\\csv\\\\selling.csv\",'a',newline=\"\") as file:\n",
    "    insert =csv. writer(file)\n",
    "    for i in range(12):\n",
    "        prod_no = input(\"Enter Product Number: \")\n",
    "        prod_name = input(\"Enter Product Name: \")\n",
    "        jan = int(input(\"Enter January Sales: \"))\n",
    "        feb = int(input(\"Enter February Sales: \"))\n",
    "        mar = int(input(\"Enter March Sales: \"))\n",
    "        apr = int(input(\"Enter April Sales: \"))\n",
    "        may = int(input(\"Enter May Sales: \"))\n",
    "        jun = int(input(\"Enter June Sales: \"))\n",
    "        data=[prod_no,prod_name,jan,feb,mar,apr,may,jun]\n",
    "        l.append(data)\n",
    "        insert.writerows(l)\n",
    "#Change Column Name Product No, Product Name, January, February, March, April, May, June.\n",
    "df=pd.header=['Product_NO','Product_Name','January','February','March','April','May',' June']\n",
    "print(df)\n",
    "#Add column \"Total Sell\" to count total of all month and \"Average Sell\"\n",
    "header=['Product_NO','Product_Name','January','February','March','April','May',' June']\n",
    "df=pd.read_csv(\"c:\\\\sqlite3\\\\csv\\\\product_selling.csv\")\n",
    "row=df.values.tolist()\n",
    "total=[sum(i[2::]) for i in row]\n",
    "average=[int(sum(i[2::])/6) for i in row]\n",
    "\n",
    "df = pd.DataFrame(row,columns=header)\n",
    "df['Total']=total\n",
    "df['Average']=average\n",
    "\n",
    "print(df)\n",
    "#Add 2 row at the end.\n",
    "new_rows = {'Product No': '', 'Product Name': '', 'January': '', 'February': '', 'March': '', 'April': '', 'May': '', 'June': ''}\n",
    "for i in range(2):\n",
    "    for column in new_rows:\n",
    "        new_rows[column] = input(f\"Enter value for {column}: \")\n",
    "df = df.append(new_rows, ignore_index=True)\n",
    "df.reset_index(drop=True, inplace=True)\n",
    "#add 2 row after 3rd row\n",
    "header=['Product No', 'Product Name', 'January', 'February', 'March', 'April', 'May', 'June','Total','Average']\n",
    "df.loc[2.5] = [15, 'cable',1290,7128,7456,4325,3874,2002,26075,4345.8333333]\n",
    "df = df.sort_index().reset_index(drop=True)\n",
    "df.loc[3.5] = [16, 'projecter',1140,1148,2260,2245,2256,2221,11270,1878.333333]\n",
    "df = df.sort_index().reset_index(drop=True)\n",
    "#Print first 5 row.\n",
    "print(\"FIRST FIVE ROWS\")\n",
    "print(df.head())\n",
    "#Print Last 5 row.\n",
    "print(\"LAST 5 ROWS\")\n",
    "print(df.tail())\n",
    "# Print row 6 to 10.\n",
    "print(\"ROW BETWEEN 6 TO 10\")\n",
    "print(df.loc[6:10])\n",
    "#Print only product name.\n",
    "print(df[\"Product Name\"])\n",
    "# Print sell of January month with product id and product name.\n",
    "print(df[[\"Product No\", \"Product Name\", \"January\"]])\n",
    "#  Print only those product id , product name where january sell is > 5000 and February sell is >8000\n",
    "print(\" record based on condition\")\n",
    "df[\"January\"] = pd.to_numeric(df[\"January\"])\n",
    "df[\"February\"] = pd.to_numeric(df[\"February\"])\n",
    "\n",
    "df2 = df[(df[\"January\"] > 5000) & (df[\"February\"] > 8000)]\n",
    "\n",
    "print(df2[[\"Product No\", \"Product Name\"]])\n",
    "# Print record in sorting order of Product name.\n",
    "print(df.sort_values(by=\"Product Name\"))\n",
    "# Display only odd index number column record.\n",
    "print(\"odd rows\")\n",
    "print(df.iloc[1::2])\n",
    "print(\"even row\")\n",
    "# Display alternate row.\n",
    "print(df.iloc[::2])\n"
   ]
  },
  {
   "cell_type": "code",
   "execution_count": null,
   "id": "3c5e4316-845a-480d-b822-190e43b45f4b",
   "metadata": {},
   "outputs": [],
   "source": []
  }
 ],
 "metadata": {
  "kernelspec": {
   "display_name": "Python 3 (ipykernel)",
   "language": "python",
   "name": "python3"
  },
  "language_info": {
   "codemirror_mode": {
    "name": "ipython",
    "version": 3
   },
   "file_extension": ".py",
   "mimetype": "text/x-python",
   "name": "python",
   "nbconvert_exporter": "python",
   "pygments_lexer": "ipython3",
   "version": "3.9.6"
  }
 },
 "nbformat": 4,
 "nbformat_minor": 5
}
